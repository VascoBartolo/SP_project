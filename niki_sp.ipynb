{
  "nbformat": 4,
  "nbformat_minor": 0,
  "metadata": {
    "colab": {
      "provenance": [],
      "authorship_tag": "ABX9TyMovJEg7B5VfXq83cZNXj8C",
      "include_colab_link": true
    },
    "kernelspec": {
      "name": "python3",
      "display_name": "Python 3"
    },
    "language_info": {
      "name": "python"
    }
  },
  "cells": [
    {
      "cell_type": "markdown",
      "metadata": {
        "id": "view-in-github",
        "colab_type": "text"
      },
      "source": [
        "<a href=\"https://colab.research.google.com/github/VascoBartolo/SP_project/blob/niki/niki_sp.ipynb\" target=\"_parent\"><img src=\"https://colab.research.google.com/assets/colab-badge.svg\" alt=\"Open In Colab\"/></a>"
      ]
    },
    {
      "cell_type": "code",
      "execution_count": 1,
      "metadata": {
        "colab": {
          "base_uri": "https://localhost:8080/"
        },
        "id": "8HWa6-n57drs",
        "outputId": "c6d76b4b-8f34-4a91-e326-c7559cfc8845"
      },
      "outputs": [
        {
          "output_type": "stream",
          "name": "stdout",
          "text": [
            "Mounted at /content/drive\n"
          ]
        }
      ],
      "source": [
        "from google.colab import drive\n",
        "drive.mount('/content/drive', force_remount=True)\n",
        "\n",
        "from google.colab import auth\n",
        "auth.authenticate_user()\n",
        "\n",
        "import gspread\n",
        "from google.auth import default\n",
        "creds, _ = default()\n",
        "gc = gspread.authorize(creds)"
      ]
    },
    {
      "cell_type": "code",
      "source": [
        "import scipy\n",
        "import sklearn\n",
        "import numpy as np\n",
        "import matplotlib.pyplot as plt\n",
        "import seaborn as sns\n",
        "from scipy.io import wavfile\n",
        "import scipy.io\n",
        "import os"
      ],
      "metadata": {
        "id": "wT4kMWSq7fs7"
      },
      "execution_count": 2,
      "outputs": []
    },
    {
      "cell_type": "code",
      "source": [
        "fem = '/content/drive/MyDrive/signal processing/females/'\n",
        "mal =  '/content/drive/MyDrive/signal processing/males/'\n",
        "\n",
        "\n",
        "fems = np.array([fem+x for x in os.listdir(fem)])\n",
        "mals = np.array([fem+x for x in os.listdir(mal)])"
      ],
      "metadata": {
        "id": "AAwU7Yqq7uNg"
      },
      "execution_count": 3,
      "outputs": []
    },
    {
      "cell_type": "code",
      "source": [
        "fems"
      ],
      "metadata": {
        "colab": {
          "base_uri": "https://localhost:8080/"
        },
        "id": "nNHMpYpe70aP",
        "outputId": "7920f994-f178-43ea-dbce-fd85ebbc814f"
      },
      "execution_count": 4,
      "outputs": [
        {
          "output_type": "execute_result",
          "data": {
            "text/plain": [
              "array(['/content/drive/MyDrive/signal processing/females/5c9167fa-9dee-4d42-9cf3-a35d875f43a0.wav',\n",
              "       '/content/drive/MyDrive/signal processing/females/a84c62e7-2130-40de-b6a0-1a20ccbee291.wav',\n",
              "       '/content/drive/MyDrive/signal processing/females/54bb38fc-9f8f-458d-975e-4e99c2e6ead5.wav',\n",
              "       '/content/drive/MyDrive/signal processing/females/cf84aa0f-7b77-4f73-acd8-c5bf739d181a.wav',\n",
              "       '/content/drive/MyDrive/signal processing/females/61159f6a-55f3-48ed-bf96-b49b3132fef5.wav',\n",
              "       '/content/drive/MyDrive/signal processing/females/f14056b4-0406-44ba-aad9-6ea395bcc401.wav',\n",
              "       '/content/drive/MyDrive/signal processing/females/216d01c1-95b1-4f02-a31e-45df80fe0872.wav',\n",
              "       '/content/drive/MyDrive/signal processing/females/10c20252-79b0-4993-8f1f-3d54b7c29454.wav',\n",
              "       '/content/drive/MyDrive/signal processing/females/69396ce3-d004-49d5-b3bd-c8c10c37f554.wav',\n",
              "       '/content/drive/MyDrive/signal processing/females/409e12e7-0e3b-4631-bc19-a7360431b0bd.wav',\n",
              "       '/content/drive/MyDrive/signal processing/females/d71f0c08-1e58-4ef7-aab1-487709f4a4b0.wav',\n",
              "       '/content/drive/MyDrive/signal processing/females/6003b5a0-938d-4905-b617-47f921b0de1c.wav',\n",
              "       '/content/drive/MyDrive/signal processing/females/7d637174-da8a-4844-845e-9cdfd5d9476c.wav',\n",
              "       '/content/drive/MyDrive/signal processing/females/60f583a1-4bb1-4fc8-982f-bcce961e4d8a.wav',\n",
              "       '/content/drive/MyDrive/signal processing/females/00f63fe8-8b98-4988-bbf4-a3c869e026ad.wav',\n",
              "       '/content/drive/MyDrive/signal processing/females/482729cb-95bb-4452-a63d-e6d1cadcdb0d.wav',\n",
              "       '/content/drive/MyDrive/signal processing/females/6e726445-55c8-472c-9f8f-50e0c37f36c3.wav',\n",
              "       '/content/drive/MyDrive/signal processing/females/a67b2d41-06a6-4bd5-b9ac-efcd7a91fc0b.wav',\n",
              "       '/content/drive/MyDrive/signal processing/females/d085777a-4ff6-4699-82c3-a159741bf574.wav',\n",
              "       '/content/drive/MyDrive/signal processing/females/9bb4057f-69a5-4ff4-bfc3-5c19ace06b50.wav',\n",
              "       '/content/drive/MyDrive/signal processing/females/d95e3b21-b079-4773-adb0-3b958206962a.wav',\n",
              "       '/content/drive/MyDrive/signal processing/females/ecd1ac90-91f6-4921-9bad-490574722494.wav',\n",
              "       '/content/drive/MyDrive/signal processing/females/88b618b7-ebed-4ad0-89ee-8c07e0e5323a.wav',\n",
              "       '/content/drive/MyDrive/signal processing/females/5675647a-b4d6-429d-9c03-7fcbea7dc4d9.wav',\n",
              "       '/content/drive/MyDrive/signal processing/females/2845938d-d4cb-43de-867f-6af15537837c.wav',\n",
              "       '/content/drive/MyDrive/signal processing/females/c1e0fd88-32a7-42d2-a75a-b7daecbcf6b7.wav',\n",
              "       '/content/drive/MyDrive/signal processing/females/84ab92d6-8d17-4277-9be2-6e1b5965cb1a.wav',\n",
              "       '/content/drive/MyDrive/signal processing/females/d26d4286-ae38-43d7-a56a-387e8c765586.wav',\n",
              "       '/content/drive/MyDrive/signal processing/females/49cfc72c-e30d-49b0-8862-05215a9d648f.wav',\n",
              "       '/content/drive/MyDrive/signal processing/females/54cb2788-82f4-42f9-bc29-a7c8cf8b9751.wav',\n",
              "       '/content/drive/MyDrive/signal processing/females/a325d018-5cd6-4a6a-bdff-b4c9dfad3317.wav',\n",
              "       '/content/drive/MyDrive/signal processing/females/6d1c899e-81b6-4e1b-bd7f-546021dddd00.wav',\n",
              "       '/content/drive/MyDrive/signal processing/females/c76937ca-dc9d-423f-a8ca-15cc58d3b9e5.wav',\n",
              "       '/content/drive/MyDrive/signal processing/females/6d7b8fc8-c4c5-4341-bf36-cdeb6d6093b4.wav',\n",
              "       '/content/drive/MyDrive/signal processing/females/4cb2304c-8de9-4160-abb6-502576498cc4.wav',\n",
              "       '/content/drive/MyDrive/signal processing/females/46753c68-32f6-4c8f-a6a5-38b84f51d80c.wav',\n",
              "       '/content/drive/MyDrive/signal processing/females/c43c1eb6-e376-445c-bb90-3b9991294215.wav',\n",
              "       '/content/drive/MyDrive/signal processing/females/d867aa9f-ebfe-4b59-a916-fb6f22f52961.wav',\n",
              "       '/content/drive/MyDrive/signal processing/females/9faa66c3-37c6-4e25-9100-9df755417985.wav',\n",
              "       '/content/drive/MyDrive/signal processing/females/1a3a3175-6998-4914-b7a5-d445882ac954.wav',\n",
              "       '/content/drive/MyDrive/signal processing/females/0adc62e7-b64c-4d39-aa9a-c7324523d9a0.wav',\n",
              "       '/content/drive/MyDrive/signal processing/females/476f038d-cc8e-4543-ad64-6f7a5a147999.wav',\n",
              "       '/content/drive/MyDrive/signal processing/females/d763629b-501e-4d19-83fb-83696132303e.wav',\n",
              "       '/content/drive/MyDrive/signal processing/females/313225a0-72c9-4d72-a2af-242060e87200.wav',\n",
              "       '/content/drive/MyDrive/signal processing/females/de9cda03-dbb2-4a54-87ab-9104f7bc799e.wav',\n",
              "       '/content/drive/MyDrive/signal processing/females/b53c19f1-18ee-4de3-8bd8-5e0e6301cd1d.wav',\n",
              "       '/content/drive/MyDrive/signal processing/females/4b28700f-5a5a-4685-bf41-9d6a56028a00.wav',\n",
              "       '/content/drive/MyDrive/signal processing/females/c33393d9-8a1b-40d1-a53e-bba8fbde1181.wav',\n",
              "       '/content/drive/MyDrive/signal processing/females/96bfca23-fe1f-456a-9574-9cdee21c1260.wav',\n",
              "       '/content/drive/MyDrive/signal processing/females/293b4e5a-3271-40a0-9d4a-3e445aff26b3.wav',\n",
              "       '/content/drive/MyDrive/signal processing/females/dd8fdbbc-be40-47a8-89c4-f35207c51d4a.wav'],\n",
              "      dtype='<U89')"
            ]
          },
          "metadata": {},
          "execution_count": 4
        }
      ]
    },
    {
      "cell_type": "code",
      "source": [],
      "metadata": {
        "id": "RddWmmqL71Ua"
      },
      "execution_count": null,
      "outputs": []
    }
  ]
}